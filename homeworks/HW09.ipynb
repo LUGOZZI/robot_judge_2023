{
 "cells": [
  {
   "cell_type": "markdown",
   "metadata": {},
   "source": [
    "# HW9: Algorithmic Fairness (due 14 December 2023)\n",
    "\n",
    "### Note: to complete most of this homework notions from week 11 slides are needed\n",
    "\n",
    "In this homework you will assess racial bias in the COMPAS algorithm and judges decisions. \n",
    "\n",
    "The data is a collection of 7000 criminal cases in Florida in which COMPAS was used and it contains information about defendants' demographics, criminal history (e.g., juvenile criminal records), court decision and recidivism."
   ]
  },
  {
   "cell_type": "code",
   "execution_count": 3,
   "metadata": {},
   "outputs": [],
   "source": [
    "import pandas as pd \n",
    "import matplotlib.pyplot as plt\n",
    "import seaborn as sns\n",
    "sns.set_theme()\n",
    "import warnings\n",
    "warnings.filterwarnings('ignore', category=FutureWarning)\n",
    "warnings.filterwarnings('ignore', category=DeprecationWarning)\n",
    "warnings.filterwarnings = lambda *a, **kw: None"
   ]
  },
  {
   "cell_type": "markdown",
   "metadata": {},
   "source": [
    "## Data Preparation"
   ]
  },
  {
   "cell_type": "code",
   "execution_count": 4,
   "metadata": {},
   "outputs": [
    {
     "data": {
      "text/html": [
       "<div>\n",
       "<style scoped>\n",
       "    .dataframe tbody tr th:only-of-type {\n",
       "        vertical-align: middle;\n",
       "    }\n",
       "\n",
       "    .dataframe tbody tr th {\n",
       "        vertical-align: top;\n",
       "    }\n",
       "\n",
       "    .dataframe thead th {\n",
       "        text-align: right;\n",
       "    }\n",
       "</style>\n",
       "<table border=\"1\" class=\"dataframe\">\n",
       "  <thead>\n",
       "    <tr style=\"text-align: right;\">\n",
       "      <th></th>\n",
       "      <th>id</th>\n",
       "      <th>name</th>\n",
       "      <th>first</th>\n",
       "      <th>last</th>\n",
       "      <th>compas_screening_date</th>\n",
       "      <th>sex</th>\n",
       "      <th>dob</th>\n",
       "      <th>age</th>\n",
       "      <th>age_cat</th>\n",
       "      <th>race</th>\n",
       "      <th>...</th>\n",
       "      <th>v_decile_score</th>\n",
       "      <th>v_score_text</th>\n",
       "      <th>v_screening_date</th>\n",
       "      <th>in_custody</th>\n",
       "      <th>out_custody</th>\n",
       "      <th>priors_count.1</th>\n",
       "      <th>start</th>\n",
       "      <th>end</th>\n",
       "      <th>event</th>\n",
       "      <th>two_year_recid</th>\n",
       "    </tr>\n",
       "  </thead>\n",
       "  <tbody>\n",
       "    <tr>\n",
       "      <th>0</th>\n",
       "      <td>1</td>\n",
       "      <td>miguel hernandez</td>\n",
       "      <td>miguel</td>\n",
       "      <td>hernandez</td>\n",
       "      <td>2013-08-14</td>\n",
       "      <td>Male</td>\n",
       "      <td>1947-04-18</td>\n",
       "      <td>69</td>\n",
       "      <td>Greater than 45</td>\n",
       "      <td>Other</td>\n",
       "      <td>...</td>\n",
       "      <td>1</td>\n",
       "      <td>Low</td>\n",
       "      <td>2013-08-14</td>\n",
       "      <td>2014-07-07</td>\n",
       "      <td>2014-07-14</td>\n",
       "      <td>0</td>\n",
       "      <td>0</td>\n",
       "      <td>327</td>\n",
       "      <td>0</td>\n",
       "      <td>0</td>\n",
       "    </tr>\n",
       "    <tr>\n",
       "      <th>1</th>\n",
       "      <td>3</td>\n",
       "      <td>kevon dixon</td>\n",
       "      <td>kevon</td>\n",
       "      <td>dixon</td>\n",
       "      <td>2013-01-27</td>\n",
       "      <td>Male</td>\n",
       "      <td>1982-01-22</td>\n",
       "      <td>34</td>\n",
       "      <td>25 - 45</td>\n",
       "      <td>African-American</td>\n",
       "      <td>...</td>\n",
       "      <td>1</td>\n",
       "      <td>Low</td>\n",
       "      <td>2013-01-27</td>\n",
       "      <td>2013-01-26</td>\n",
       "      <td>2013-02-05</td>\n",
       "      <td>0</td>\n",
       "      <td>9</td>\n",
       "      <td>159</td>\n",
       "      <td>1</td>\n",
       "      <td>1</td>\n",
       "    </tr>\n",
       "    <tr>\n",
       "      <th>2</th>\n",
       "      <td>4</td>\n",
       "      <td>ed philo</td>\n",
       "      <td>ed</td>\n",
       "      <td>philo</td>\n",
       "      <td>2013-04-14</td>\n",
       "      <td>Male</td>\n",
       "      <td>1991-05-14</td>\n",
       "      <td>24</td>\n",
       "      <td>Less than 25</td>\n",
       "      <td>African-American</td>\n",
       "      <td>...</td>\n",
       "      <td>3</td>\n",
       "      <td>Low</td>\n",
       "      <td>2013-04-14</td>\n",
       "      <td>2013-06-16</td>\n",
       "      <td>2013-06-16</td>\n",
       "      <td>4</td>\n",
       "      <td>0</td>\n",
       "      <td>63</td>\n",
       "      <td>0</td>\n",
       "      <td>1</td>\n",
       "    </tr>\n",
       "    <tr>\n",
       "      <th>3</th>\n",
       "      <td>5</td>\n",
       "      <td>marcu brown</td>\n",
       "      <td>marcu</td>\n",
       "      <td>brown</td>\n",
       "      <td>2013-01-13</td>\n",
       "      <td>Male</td>\n",
       "      <td>1993-01-21</td>\n",
       "      <td>23</td>\n",
       "      <td>Less than 25</td>\n",
       "      <td>African-American</td>\n",
       "      <td>...</td>\n",
       "      <td>6</td>\n",
       "      <td>Medium</td>\n",
       "      <td>2013-01-13</td>\n",
       "      <td>NaN</td>\n",
       "      <td>NaN</td>\n",
       "      <td>1</td>\n",
       "      <td>0</td>\n",
       "      <td>1174</td>\n",
       "      <td>0</td>\n",
       "      <td>0</td>\n",
       "    </tr>\n",
       "    <tr>\n",
       "      <th>4</th>\n",
       "      <td>6</td>\n",
       "      <td>bouthy pierrelouis</td>\n",
       "      <td>bouthy</td>\n",
       "      <td>pierrelouis</td>\n",
       "      <td>2013-03-26</td>\n",
       "      <td>Male</td>\n",
       "      <td>1973-01-22</td>\n",
       "      <td>43</td>\n",
       "      <td>25 - 45</td>\n",
       "      <td>Other</td>\n",
       "      <td>...</td>\n",
       "      <td>1</td>\n",
       "      <td>Low</td>\n",
       "      <td>2013-03-26</td>\n",
       "      <td>NaN</td>\n",
       "      <td>NaN</td>\n",
       "      <td>2</td>\n",
       "      <td>0</td>\n",
       "      <td>1102</td>\n",
       "      <td>0</td>\n",
       "      <td>0</td>\n",
       "    </tr>\n",
       "  </tbody>\n",
       "</table>\n",
       "<p>5 rows × 53 columns</p>\n",
       "</div>"
      ],
      "text/plain": [
       "   id                name   first         last compas_screening_date   sex  \\\n",
       "0   1    miguel hernandez  miguel    hernandez            2013-08-14  Male   \n",
       "1   3         kevon dixon   kevon        dixon            2013-01-27  Male   \n",
       "2   4            ed philo      ed        philo            2013-04-14  Male   \n",
       "3   5         marcu brown   marcu        brown            2013-01-13  Male   \n",
       "4   6  bouthy pierrelouis  bouthy  pierrelouis            2013-03-26  Male   \n",
       "\n",
       "          dob  age          age_cat              race  ...  v_decile_score  \\\n",
       "0  1947-04-18   69  Greater than 45             Other  ...               1   \n",
       "1  1982-01-22   34          25 - 45  African-American  ...               1   \n",
       "2  1991-05-14   24     Less than 25  African-American  ...               3   \n",
       "3  1993-01-21   23     Less than 25  African-American  ...               6   \n",
       "4  1973-01-22   43          25 - 45             Other  ...               1   \n",
       "\n",
       "   v_score_text  v_screening_date  in_custody  out_custody  priors_count.1  \\\n",
       "0           Low        2013-08-14  2014-07-07   2014-07-14               0   \n",
       "1           Low        2013-01-27  2013-01-26   2013-02-05               0   \n",
       "2           Low        2013-04-14  2013-06-16   2013-06-16               4   \n",
       "3        Medium        2013-01-13         NaN          NaN               1   \n",
       "4           Low        2013-03-26         NaN          NaN               2   \n",
       "\n",
       "  start   end event two_year_recid  \n",
       "0     0   327     0              0  \n",
       "1     9   159     1              1  \n",
       "2     0    63     0              1  \n",
       "3     0  1174     0              0  \n",
       "4     0  1102     0              0  \n",
       "\n",
       "[5 rows x 53 columns]"
      ]
     },
     "execution_count": 4,
     "metadata": {},
     "output_type": "execute_result"
    }
   ],
   "source": [
    "df = pd.read_csv('https://raw.githubusercontent.com/propublica/compas-analysis/master/compas-scores-two-years.csv')\n",
    "df.head()"
   ]
  },
  {
   "cell_type": "code",
   "execution_count": 5,
   "metadata": {},
   "outputs": [
    {
     "name": "stdout",
     "output_type": "stream",
     "text": [
      "<class 'pandas.core.frame.DataFrame'>\n",
      "RangeIndex: 7214 entries, 0 to 7213\n",
      "Data columns (total 53 columns):\n",
      " #   Column                   Non-Null Count  Dtype  \n",
      "---  ------                   --------------  -----  \n",
      " 0   id                       7214 non-null   int64  \n",
      " 1   name                     7214 non-null   object \n",
      " 2   first                    7214 non-null   object \n",
      " 3   last                     7214 non-null   object \n",
      " 4   compas_screening_date    7214 non-null   object \n",
      " 5   sex                      7214 non-null   object \n",
      " 6   dob                      7214 non-null   object \n",
      " 7   age                      7214 non-null   int64  \n",
      " 8   age_cat                  7214 non-null   object \n",
      " 9   race                     7214 non-null   object \n",
      " 10  juv_fel_count            7214 non-null   int64  \n",
      " 11  decile_score             7214 non-null   int64  \n",
      " 12  juv_misd_count           7214 non-null   int64  \n",
      " 13  juv_other_count          7214 non-null   int64  \n",
      " 14  priors_count             7214 non-null   int64  \n",
      " 15  days_b_screening_arrest  6907 non-null   float64\n",
      " 16  c_jail_in                6907 non-null   object \n",
      " 17  c_jail_out               6907 non-null   object \n",
      " 18  c_case_number            7192 non-null   object \n",
      " 19  c_offense_date           6055 non-null   object \n",
      " 20  c_arrest_date            1137 non-null   object \n",
      " 21  c_days_from_compas       7192 non-null   float64\n",
      " 22  c_charge_degree          7214 non-null   object \n",
      " 23  c_charge_desc            7185 non-null   object \n",
      " 24  is_recid                 7214 non-null   int64  \n",
      " 25  r_case_number            3471 non-null   object \n",
      " 26  r_charge_degree          3471 non-null   object \n",
      " 27  r_days_from_arrest       2316 non-null   float64\n",
      " 28  r_offense_date           3471 non-null   object \n",
      " 29  r_charge_desc            3413 non-null   object \n",
      " 30  r_jail_in                2316 non-null   object \n",
      " 31  r_jail_out               2316 non-null   object \n",
      " 32  violent_recid            0 non-null      float64\n",
      " 33  is_violent_recid         7214 non-null   int64  \n",
      " 34  vr_case_number           819 non-null    object \n",
      " 35  vr_charge_degree         819 non-null    object \n",
      " 36  vr_offense_date          819 non-null    object \n",
      " 37  vr_charge_desc           819 non-null    object \n",
      " 38  type_of_assessment       7214 non-null   object \n",
      " 39  decile_score.1           7214 non-null   int64  \n",
      " 40  score_text               7214 non-null   object \n",
      " 41  screening_date           7214 non-null   object \n",
      " 42  v_type_of_assessment     7214 non-null   object \n",
      " 43  v_decile_score           7214 non-null   int64  \n",
      " 44  v_score_text             7214 non-null   object \n",
      " 45  v_screening_date         7214 non-null   object \n",
      " 46  in_custody               6978 non-null   object \n",
      " 47  out_custody              6978 non-null   object \n",
      " 48  priors_count.1           7214 non-null   int64  \n",
      " 49  start                    7214 non-null   int64  \n",
      " 50  end                      7214 non-null   int64  \n",
      " 51  event                    7214 non-null   int64  \n",
      " 52  two_year_recid           7214 non-null   int64  \n",
      "dtypes: float64(4), int64(16), object(33)\n",
      "memory usage: 2.9+ MB\n"
     ]
    }
   ],
   "source": [
    "df.info()"
   ]
  },
  {
   "cell_type": "code",
   "execution_count": 6,
   "metadata": {},
   "outputs": [],
   "source": [
    "df['days_from_recid'] = pd.to_datetime(df['r_offense_date']) - pd.to_datetime(df['c_offense_date'])\n",
    "df['days_from_recid'] = df['days_from_recid'].dt.days\n",
    "df['two_year_recid2'] = (df['days_from_recid']<=730).astype(int)\n",
    "\n",
    "#generate felonD charge dummies\n",
    "df['felony'] = (df['c_charge_degree'] == 'F').astype(int)\n",
    "\n",
    "#generate age dummies\n",
    "d = pd.get_dummies(df['age_cat'])\n",
    "df = pd.concat([df, d], axis=1)\n",
    "df = df.rename(columns={'25 - 45':'age_cat_25 - 45', 'Greater than 45':'age_cat_Greater than 45', 'Less than 25':'age_cat_Less than 25'})\n",
    "\n",
    "#generate ethnicity, race and compas score dummies\n",
    "d = pd.get_dummies(df['race'])\n",
    "df = pd.concat([df, d], axis=1)\n",
    "df['male'] = (df['sex'] == 'Male').astype(int)\n",
    "d = pd.get_dummies(df['score_text'])\n",
    "df = pd.concat([df, d], axis=1)\n",
    "df = df.rename(columns={'High':'score_text_high', 'Medium':'score_text_medium', 'Low':'score_text_low'})"
   ]
  },
  {
   "cell_type": "markdown",
   "metadata": {},
   "source": [
    "### Setting outcomes and predictors\n",
    "\n",
    "The *ideal* target variable for the COMPAS algorithm is the presence of a recidivism episode, while for judges is the decision to send the defendant to jail. For the predictors we use some deomgraphic characteristics **excluding race**, criminal hisotry and type of crime. "
   ]
  },
  {
   "cell_type": "code",
   "execution_count": 7,
   "metadata": {},
   "outputs": [
    {
     "data": {
      "text/plain": [
       "jailed\n",
       "0    4283\n",
       "1    2931\n",
       "Name: count, dtype: int64"
      ]
     },
     "execution_count": 7,
     "metadata": {},
     "output_type": "execute_result"
    }
   ],
   "source": [
    "# judge decision: \"jailed\" = more than one day in jail.\n",
    "df['jail_days'] = pd.to_datetime(df['c_jail_out']) - pd.to_datetime(df['c_jail_in'])\n",
    "df['jailed'] = (df.jail_days.dt.days > 1).astype(int)\n",
    "D = df['jailed']\n",
    "D.value_counts()"
   ]
  },
  {
   "cell_type": "code",
   "execution_count": 8,
   "metadata": {},
   "outputs": [
    {
     "data": {
      "text/plain": [
       "two_year_recid2\n",
       "0    4557\n",
       "1    2657\n",
       "Name: count, dtype: int64"
      ]
     },
     "execution_count": 8,
     "metadata": {},
     "output_type": "execute_result"
    }
   ],
   "source": [
    "# Algorithm outcome\n",
    "Y = df['two_year_recid2'] \n",
    "Y.value_counts()"
   ]
  },
  {
   "cell_type": "code",
   "execution_count": 9,
   "metadata": {},
   "outputs": [
    {
     "data": {
      "text/html": [
       "<div>\n",
       "<style scoped>\n",
       "    .dataframe tbody tr th:only-of-type {\n",
       "        vertical-align: middle;\n",
       "    }\n",
       "\n",
       "    .dataframe tbody tr th {\n",
       "        vertical-align: top;\n",
       "    }\n",
       "\n",
       "    .dataframe thead th {\n",
       "        text-align: right;\n",
       "    }\n",
       "</style>\n",
       "<table border=\"1\" class=\"dataframe\">\n",
       "  <thead>\n",
       "    <tr style=\"text-align: right;\">\n",
       "      <th></th>\n",
       "      <th>felony</th>\n",
       "      <th>male</th>\n",
       "      <th>age</th>\n",
       "      <th>juv_fel_count</th>\n",
       "      <th>juv_misd_count</th>\n",
       "      <th>juv_other_count</th>\n",
       "      <th>priors_count</th>\n",
       "    </tr>\n",
       "  </thead>\n",
       "  <tbody>\n",
       "    <tr>\n",
       "      <th>count</th>\n",
       "      <td>7214.000000</td>\n",
       "      <td>7214.000000</td>\n",
       "      <td>7214.000000</td>\n",
       "      <td>7214.000000</td>\n",
       "      <td>7214.000000</td>\n",
       "      <td>7214.000000</td>\n",
       "      <td>7214.000000</td>\n",
       "    </tr>\n",
       "    <tr>\n",
       "      <th>mean</th>\n",
       "      <td>0.646798</td>\n",
       "      <td>0.806626</td>\n",
       "      <td>34.817993</td>\n",
       "      <td>0.067230</td>\n",
       "      <td>0.090934</td>\n",
       "      <td>0.109371</td>\n",
       "      <td>3.472415</td>\n",
       "    </tr>\n",
       "    <tr>\n",
       "      <th>std</th>\n",
       "      <td>0.477998</td>\n",
       "      <td>0.394971</td>\n",
       "      <td>11.888922</td>\n",
       "      <td>0.473972</td>\n",
       "      <td>0.485239</td>\n",
       "      <td>0.501586</td>\n",
       "      <td>4.882538</td>\n",
       "    </tr>\n",
       "    <tr>\n",
       "      <th>min</th>\n",
       "      <td>0.000000</td>\n",
       "      <td>0.000000</td>\n",
       "      <td>18.000000</td>\n",
       "      <td>0.000000</td>\n",
       "      <td>0.000000</td>\n",
       "      <td>0.000000</td>\n",
       "      <td>0.000000</td>\n",
       "    </tr>\n",
       "    <tr>\n",
       "      <th>25%</th>\n",
       "      <td>0.000000</td>\n",
       "      <td>1.000000</td>\n",
       "      <td>25.000000</td>\n",
       "      <td>0.000000</td>\n",
       "      <td>0.000000</td>\n",
       "      <td>0.000000</td>\n",
       "      <td>0.000000</td>\n",
       "    </tr>\n",
       "    <tr>\n",
       "      <th>50%</th>\n",
       "      <td>1.000000</td>\n",
       "      <td>1.000000</td>\n",
       "      <td>31.000000</td>\n",
       "      <td>0.000000</td>\n",
       "      <td>0.000000</td>\n",
       "      <td>0.000000</td>\n",
       "      <td>2.000000</td>\n",
       "    </tr>\n",
       "    <tr>\n",
       "      <th>75%</th>\n",
       "      <td>1.000000</td>\n",
       "      <td>1.000000</td>\n",
       "      <td>42.000000</td>\n",
       "      <td>0.000000</td>\n",
       "      <td>0.000000</td>\n",
       "      <td>0.000000</td>\n",
       "      <td>5.000000</td>\n",
       "    </tr>\n",
       "    <tr>\n",
       "      <th>max</th>\n",
       "      <td>1.000000</td>\n",
       "      <td>1.000000</td>\n",
       "      <td>96.000000</td>\n",
       "      <td>20.000000</td>\n",
       "      <td>13.000000</td>\n",
       "      <td>17.000000</td>\n",
       "      <td>38.000000</td>\n",
       "    </tr>\n",
       "  </tbody>\n",
       "</table>\n",
       "</div>"
      ],
      "text/plain": [
       "            felony         male          age  juv_fel_count  juv_misd_count  \\\n",
       "count  7214.000000  7214.000000  7214.000000    7214.000000     7214.000000   \n",
       "mean      0.646798     0.806626    34.817993       0.067230        0.090934   \n",
       "std       0.477998     0.394971    11.888922       0.473972        0.485239   \n",
       "min       0.000000     0.000000    18.000000       0.000000        0.000000   \n",
       "25%       0.000000     1.000000    25.000000       0.000000        0.000000   \n",
       "50%       1.000000     1.000000    31.000000       0.000000        0.000000   \n",
       "75%       1.000000     1.000000    42.000000       0.000000        0.000000   \n",
       "max       1.000000     1.000000    96.000000      20.000000       13.000000   \n",
       "\n",
       "       juv_other_count  priors_count  \n",
       "count      7214.000000   7214.000000  \n",
       "mean          0.109371      3.472415  \n",
       "std           0.501586      4.882538  \n",
       "min           0.000000      0.000000  \n",
       "25%           0.000000      0.000000  \n",
       "50%           0.000000      2.000000  \n",
       "75%           0.000000      5.000000  \n",
       "max          17.000000     38.000000  "
      ]
     },
     "execution_count": 9,
     "metadata": {},
     "output_type": "execute_result"
    }
   ],
   "source": [
    "# predictors\n",
    "predictors = ['felony',\n",
    "              'male', 'age', \n",
    "              'juv_fel_count','juv_misd_count', 'juv_other_count', 'priors_count']\n",
    "X = df[predictors]\n",
    "X.describe()"
   ]
  },
  {
   "cell_type": "code",
   "execution_count": 10,
   "metadata": {},
   "outputs": [
    {
     "data": {
      "text/plain": [
       "race\n",
       "African-American    3696\n",
       "Caucasian           2454\n",
       "Hispanic             637\n",
       "Other                377\n",
       "Asian                 32\n",
       "Native American       18\n",
       "Name: count, dtype: int64"
      ]
     },
     "execution_count": 10,
     "metadata": {},
     "output_type": "execute_result"
    }
   ],
   "source": [
    "df['race'].value_counts()"
   ]
  },
  {
   "cell_type": "code",
   "execution_count": 11,
   "metadata": {},
   "outputs": [
    {
     "data": {
      "text/plain": [
       "count    7214.000000\n",
       "mean        0.659828\n",
       "std         0.473800\n",
       "min         0.000000\n",
       "25%         0.000000\n",
       "50%         1.000000\n",
       "75%         1.000000\n",
       "max         1.000000\n",
       "Name: race, dtype: float64"
      ]
     },
     "execution_count": 11,
     "metadata": {},
     "output_type": "execute_result"
    }
   ],
   "source": [
    "# indicator variable for non-white\n",
    "NW = (df['race'] != 'Caucasian').astype(int)\n",
    "NW.describe()"
   ]
  },
  {
   "cell_type": "markdown",
   "metadata": {},
   "source": [
    "## Assessing Algorithm: Predict Recidivism from Features"
   ]
  },
  {
   "cell_type": "markdown",
   "metadata": {},
   "source": [
    "In the following you will predict recidivism from defendants' features using a nested training/test split so we can get clean test-set predictions for the whole dataset (see the notebook and homework on double machine learning for how to do this - week 6)."
   ]
  },
  {
   "cell_type": "code",
   "execution_count": 12,
   "metadata": {
    "scrolled": true
   },
   "outputs": [],
   "source": [
    "import pandas as pd\n",
    "\n",
    "# perform nested train/test split \n",
    "from sklearn.model_selection import train_test_split\n",
    "X_a, X_b, Y_a, Y_b, D_a, D_b,NW_a, NW_b = train_test_split(X, Y, D, NW, test_size = 0.5)\n",
    "\n",
    "X_new = pd.concat([X_a, X_b], axis=0)\n",
    "NW_New = pd.concat([NW_a, NW_b], axis=0)\n",
    "\n",
    "#TODO train a logit model to predict recidism (Y) from predictors (X).\n",
    "#TODO form clean test-set predictions for recidivism in the full dataset\n",
    "from sklearn.linear_model import LogisticRegression\n",
    "\n",
    "logit_model_a = LogisticRegression()\n",
    "#train on first split\n",
    "logit_model_a.fit(X_a, Y_a)\n",
    "#predict on second split\n",
    "Y_pred_b = logit_model_a.predict(X_b)\n",
    "\n",
    "#train on second split\n",
    "logit_model_b = LogisticRegression()\n",
    "logit_model_b.fit(X_b, Y_b)\n",
    "#predict on first split\n",
    "Y_pred_a = logit_model_b.predict(X_a)\n",
    "\n",
    "# Create DataFrame for the first split predictions\n",
    "df_predictions_a = pd.DataFrame({\n",
    "    'Y': Y_a,\n",
    "    'Y_pred': Y_pred_a\n",
    "})\n",
    "\n",
    "# Create DataFrame for the second split predictions\n",
    "df_predictions_b = pd.DataFrame({\n",
    "    'Y': Y_b,\n",
    "    'Y_pred': Y_pred_b\n",
    "})\n",
    "\n",
    "df_predictions = pd.concat([df_predictions_a, df_predictions_b], axis=0)\n",
    "\n",
    "Y_new = df_predictions['Y']\n",
    "Y_pred = df_predictions['Y_pred']\n"
   ]
  },
  {
   "cell_type": "markdown",
   "metadata": {},
   "source": [
    "Evaluate test set performance."
   ]
  },
  {
   "cell_type": "code",
   "execution_count": 13,
   "metadata": {
    "scrolled": true
   },
   "outputs": [
    {
     "name": "stdout",
     "output_type": "stream",
     "text": [
      "Confusion Matrix:\n",
      "[[4155  402]\n",
      " [2075  582]]\n"
     ]
    },
    {
     "data": {
      "image/png": "[encoded data removed]",
      "text/plain": [
       "<Figure size 640x480 with 2 Axes>"
      ]
     },
     "metadata": {},
     "output_type": "display_data"
    },
    {
     "name": "stdout",
     "output_type": "stream",
     "text": [
      "Accuracy: 0.6566398669254228\n",
      "Balanced Accuracy: 0.5654140515458068\n",
      "ROC AUC Score: 0.6656134742556317\n",
      "Ratio of False Positives to False Negatives: 0.19373493975903613\n"
     ]
    }
   ],
   "source": [
    "#TODO show a confusion matrix, compute accuracy, balanced accuracy, and roc_auc\n",
    "#TODO compute ratio of false positives to false negatives\n",
    "import numpy as np\n",
    "from sklearn.metrics import confusion_matrix, ConfusionMatrixDisplay\n",
    "from sklearn.metrics import classification_report\n",
    "from sklearn.metrics import  balanced_accuracy_score, roc_auc_score\n",
    "\n",
    "conf_matrix = confusion_matrix(Y_new, Y_pred)\n",
    "print(\"Confusion Matrix:\")\n",
    "print(conf_matrix)\n",
    "\n",
    "ConfusionMatrixDisplay.from_predictions(Y_new, Y_pred)\n",
    "plt.title(\"Confusion Matrix\")\n",
    "plt.show()\n",
    "\n",
    "\n",
    "# Calculating accuracy\n",
    "accuracy = (conf_matrix[0, 0] + conf_matrix[1, 1]) / conf_matrix.sum()\n",
    "print(f\"Accuracy: {accuracy}\")\n",
    "\n",
    "# Calculating balanced accuracy\n",
    "balanced_acc = balanced_accuracy_score(Y_new, Y_pred)\n",
    "print(f\"Balanced Accuracy: {balanced_acc}\")\n",
    "\n",
    "# ROC AUC Score\n",
    "# Note: You need probabilities, not just predictions, for ROC AUC\n",
    "Y_proba_b = logit_model_a.predict_proba(X_b)[:, 1]\n",
    "Y_proba_a = logit_model_b.predict_proba(X_a)[:, 1]\n",
    "roc_auc = roc_auc_score(df_predictions['Y'], np.concatenate([Y_proba_a, Y_proba_b]))\n",
    "print(f\"ROC AUC Score: {roc_auc}\")\n",
    "\n",
    "# Ratio of False Positives to False Negatives\n",
    "FP = conf_matrix[0, 1]\n",
    "FN = conf_matrix[1, 0]\n",
    "ratio_fp_fn = FP / FN if FN != 0 else float('inf')  # Check for division by zero\n",
    "print(f\"Ratio of False Positives to False Negatives: {ratio_fp_fn}\")"
   ]
  },
  {
   "cell_type": "markdown",
   "metadata": {},
   "source": [
    "### Compare treatment of whites and non-whites for recidivism prediction\n",
    "##### Refer to week 11 for these concepts"
   ]
  },
  {
   "cell_type": "markdown",
   "metadata": {},
   "source": [
    "#### Base Rates"
   ]
  },
  {
   "cell_type": "code",
   "execution_count": 14,
   "metadata": {},
   "outputs": [
    {
     "name": "stdout",
     "output_type": "stream",
     "text": [
      "Base Rate for Whites: 0.07905460472697637\n",
      "Base Rate for Non-Whites: 0.16596638655462184\n"
     ]
    }
   ],
   "source": [
    "##TODO Compare base rates for recidivism outcomes of whites and non-whites\n",
    "\n",
    "# Calculate the base rate for non-whites (NW_New == 1)\n",
    "non_white_recidivism = Y_pred[NW_New == 1].sum()\n",
    "total_non_whites = (NW_New == 1).sum()\n",
    "non_white_base_rate = non_white_recidivism / total_non_whites if total_non_whites > 0 else 0\n",
    "\n",
    "# Calculate the base rate for whites (NW_New == 0)\n",
    "white_recidivism = Y_pred[NW_New == 0].sum()\n",
    "total_whites = (NW_New == 0).sum()\n",
    "white_base_rate = white_recidivism / total_whites if total_whites > 0 else 0\n",
    "\n",
    "# Print the base rates\n",
    "print(\"Base Rate for Whites:\", white_base_rate)\n",
    "print(\"Base Rate for Non-Whites:\", non_white_base_rate)"
   ]
  },
  {
   "cell_type": "markdown",
   "metadata": {},
   "source": [
    "#### Performance"
   ]
  },
  {
   "cell_type": "code",
   "execution_count": 15,
   "metadata": {},
   "outputs": [
    {
     "data": {
      "image/png": "[encoded data removed]",
      "text/plain": [
       "<Figure size 640x480 with 2 Axes>"
      ]
     },
     "metadata": {},
     "output_type": "display_data"
    },
    {
     "data": {
      "image/png": "[encoded data removed]",
      "text/plain": [
       "<Figure size 640x480 with 2 Axes>"
      ]
     },
     "metadata": {},
     "output_type": "display_data"
    },
    {
     "name": "stdout",
     "output_type": "stream",
     "text": [
      "\n",
      "Classification Report for Non-Whites:\n",
      "               precision    recall  f1-score   support\n",
      "\n",
      "           0       0.65      0.89      0.75      2908\n",
      "           1       0.60      0.25      0.36      1852\n",
      "\n",
      "    accuracy                           0.64      4760\n",
      "   macro avg       0.62      0.57      0.56      4760\n",
      "weighted avg       0.63      0.64      0.60      4760\n",
      "\n",
      "\n",
      "Classification Report for Whites:\n",
      "               precision    recall  f1-score   support\n",
      "\n",
      "           0       0.69      0.95      0.80      1649\n",
      "           1       0.57      0.14      0.22       805\n",
      "\n",
      "    accuracy                           0.68      2454\n",
      "   macro avg       0.63      0.54      0.51      2454\n",
      "weighted avg       0.65      0.68      0.61      2454\n",
      "\n",
      "Average Y_hat for Non-Whites: \t 0.16596638655462184\n",
      "Average Y_hat for Whites: \t 0.07905460472697637 \n",
      "\n",
      "Ratio of False Positives to False Negatives for Non-Whites: 0.23043478260869565\n",
      "Ratio of False Positives to False Negatives for Whites: 0.12086330935251799\n"
     ]
    }
   ],
   "source": [
    "##TODO Produce confusion matrices, classification reports, and ratio of false positives to false negatives, separately for whites and non-whites.\n",
    "\n",
    "# Combine Y and Y_pred into a single DataFrame for easier filtering\n",
    "df_combined = df_predictions.copy()\n",
    "df_combined['NW_New'] = NW_New\n",
    "\n",
    "# Filter the data for non-whites\n",
    "non_whites = df_combined[df_combined['NW_New'] == 1]\n",
    "Y_non_whites = non_whites['Y']\n",
    "Y_pred_non_whites = non_whites['Y_pred']\n",
    "\n",
    "# Filter the data for whites\n",
    "whites = df_combined[df_combined['NW_New'] == 0]\n",
    "Y_whites = whites['Y']\n",
    "Y_pred_whites = whites['Y_pred']\n",
    "\n",
    "# Confusion Matrix and Classification Report for Non-Whites\n",
    "ConfusionMatrixDisplay.from_predictions(Y_non_whites, Y_pred_non_whites)\n",
    "\n",
    "plt.title(\"Confusion Matrix for Non-Whites\")\n",
    "plt.show()\n",
    "conf_matrix_non_whites = confusion_matrix(Y_non_whites, Y_pred_non_whites)\n",
    "\n",
    "\n",
    "\n",
    "# Confusion Matrix and Classification Report for Whites\n",
    "conf_matrix_whites = confusion_matrix(Y_whites, Y_pred_whites)\n",
    "\n",
    "ConfusionMatrixDisplay.from_predictions(Y_whites, Y_pred_whites)\n",
    "plt.title(\"Confusion Matrix for Whites\")\n",
    "plt.show()\n",
    "\n",
    "print(\"\\nClassification Report for Non-Whites:\\n\", classification_report(Y_non_whites, Y_pred_non_whites))\n",
    "print(\"\\nClassification Report for Whites:\\n\", classification_report(Y_whites, Y_pred_whites))\n",
    "\n",
    "# Ratio of False Positives to False Negatives for Non-Whites\n",
    "FP_non_whites = conf_matrix_non_whites[0][1]\n",
    "FN_non_whites = conf_matrix_non_whites[1][0]\n",
    "ratio_fp_fn_non_whites = FP_non_whites / FN_non_whites if FN_non_whites != 0 else np.inf\n",
    "\n",
    "# Ratio of False Positives to False Negatives for Whites\n",
    "FP_whites = conf_matrix_whites[0][1]\n",
    "FN_whites = conf_matrix_whites[1][0]\n",
    "ratio_fp_fn_whites = FP_whites / FN_whites if FN_whites != 0 else np.inf\n",
    "\n",
    "#Pr Y^hat = 1\n",
    "Y_hat_whites = (conf_matrix_whites[0][1]+conf_matrix_whites[1][1])/(conf_matrix_whites[0][1]+conf_matrix_whites[1][1]+conf_matrix_whites[1][0]+conf_matrix_whites[0][0])\n",
    "Y_hat_non_whites = (conf_matrix_non_whites[0][1]+conf_matrix_non_whites[1][1])/(conf_matrix_non_whites[0][1]+conf_matrix_non_whites[1][1]+conf_matrix_non_whites[1][0]+conf_matrix_non_whites[0][0])\n",
    "\n",
    "\n",
    "#Print average Y^hat\n",
    "print(\"Average Y_hat for Non-Whites: \\t\",Y_hat_non_whites )\n",
    "print(\"Average Y_hat for Whites: \\t\", Y_hat_whites,\"\\n\")\n",
    "\n",
    "\n",
    "# Print the ratios\n",
    "print(\"Ratio of False Positives to False Negatives for Non-Whites:\", ratio_fp_fn_non_whites)\n",
    "print(\"Ratio of False Positives to False Negatives for Whites:\", ratio_fp_fn_whites)"
   ]
  },
  {
   "cell_type": "markdown",
   "metadata": {},
   "source": [
    "**What concepts of \"fairness\" (from class) are (approximately) satisfied by this classifier? Explain.**"
   ]
  },
  {
   "cell_type": "markdown",
   "metadata": {},
   "source": [
    "## Assessing Judges' Decisions: Predict Judge Decision from Features"
   ]
  },
  {
   "cell_type": "markdown",
   "metadata": {},
   "source": [
    "In the following you will predict judges' decisions from defendants' features using a nested training/test split as before. In a second model, include Y-hat from previous section as a predictor."
   ]
  },
  {
   "cell_type": "code",
   "execution_count": 16,
   "metadata": {},
   "outputs": [],
   "source": [
    "#TODO train a logit model to predict judge decision (D) from predictors (X). \n",
    "\n",
    "\n",
    "X_a2, X_b2, Y_a2, Y_b2, D_a2, D_b2 ,NW_a2, NW_b2 = train_test_split(X, Y, D, NW, test_size = 0.5)\n",
    "\n",
    "X_new2 = pd.concat([X_a2, X_b2], axis=0)\n",
    "NW_New2 = pd.concat([NW_a2, NW_b2], axis=0)\n",
    "\n",
    "judge_model_a = LogisticRegression()\n",
    "judge_model_a.fit(X_a2, D_a2)\n",
    "\n",
    "D_pred_b = judge_model_a.predict(X_b2)    \n",
    "\n",
    "judge_model_b = LogisticRegression()\n",
    "judge_model_b.fit(X_b2, D_b2)\n",
    "\n",
    "# Make Predictions on Part A\n",
    "D_pred_a = judge_model_b.predict(X_a2)\n",
    "\n",
    "# Create DataFrame for the first split predictions\n",
    "D_pred_a = pd.DataFrame({\n",
    "    'D': D_a2,\n",
    "    'D_pred': D_pred_a\n",
    "})\n",
    "\n",
    "# Create DataFrame for the second split predictions\n",
    "D_pred_b = pd.DataFrame({\n",
    "    'D': D_b2,\n",
    "    'D_pred': D_pred_b\n",
    "})\n",
    "\n",
    "D_predictions = pd.concat([D_pred_a, D_pred_b], axis=0)\n",
    "\n",
    "D_new = D_predictions['D']\n",
    "D_pred = D_predictions['D_pred']\n"
   ]
  },
  {
   "cell_type": "code",
   "execution_count": 17,
   "metadata": {
    "scrolled": false
   },
   "outputs": [],
   "source": [
    "#TODO train a logit model to predict judge decision (D) from predictors (X) and predicted recidivism risk (Yhat)\n",
    "#TODO form clean test-set predictions for the decisions in the full dataset\n",
    "\n",
    "\n",
    "X_enhanced = X_new.copy()\n",
    "X_enhanced['Y_hat'] = Y_pred\n",
    "\n",
    "\n",
    "X_a3, X_b3, Y_a3, Y_b3, D_a3, D_b3 ,NW_a3, NW_b3 = train_test_split(X_enhanced, Y_new, D, NW, test_size = 0.5)\n",
    "\n",
    "X_new3 = pd.concat([X_a3, X_b3], axis=0)\n",
    "NW_New3 = pd.concat([NW_a3, NW_b3], axis=0)\n",
    "\n",
    "judge_model_a3 = LogisticRegression()\n",
    "judge_model_a3.fit(X_a3, D_a3)\n",
    "\n",
    "D_pred_b3 = judge_model_a3.predict(X_b3)    \n",
    "\n",
    "judge_model_b3 = LogisticRegression()\n",
    "judge_model_b3.fit(X_b3, D_b3)\n",
    "\n",
    "# Make Predictions on Part A\n",
    "D_pred_a3 = judge_model_b3.predict(X_a3)\n",
    "\n",
    "# Create DataFrame for the first split predictions\n",
    "D_pred_a3 = pd.DataFrame({\n",
    "    'D': D_a3,\n",
    "    'D_pred': D_pred_a3\n",
    "})\n",
    "\n",
    "# Create DataFrame for the second split predictions\n",
    "D_pred_b3 = pd.DataFrame({\n",
    "    'D': D_b3,\n",
    "    'D_pred': D_pred_b3\n",
    "})\n",
    "\n",
    "D_predictions3 = pd.concat([D_pred_a3, D_pred_b3], axis=0)\n",
    "\n",
    "D_new3 = D_predictions3['D']\n",
    "D_pred3 = D_predictions3['D_pred']\n"
   ]
  },
  {
   "cell_type": "markdown",
   "metadata": {},
   "source": [
    "### Compare treatment of whites and non-whites for recidivism prediction"
   ]
  },
  {
   "cell_type": "code",
   "execution_count": 18,
   "metadata": {},
   "outputs": [
    {
     "name": "stdout",
     "output_type": "stream",
     "text": [
      "Metrics for Whites:\n",
      "Confusion Matrix:\n",
      "[[1396   89]\n",
      " [ 805  164]]\n",
      "\n",
      "Classification Report:\n",
      "              precision    recall  f1-score   support\n",
      "\n",
      "           0       0.63      0.94      0.76      1485\n",
      "           1       0.65      0.17      0.27       969\n",
      "\n",
      "    accuracy                           0.64      2454\n",
      "   macro avg       0.64      0.55      0.51      2454\n",
      "weighted avg       0.64      0.64      0.56      2454\n",
      "\n",
      "\n",
      "Ratio of False Positives to False Negatives: 0.11055900621118013\n",
      "\n"
     ]
    },
    {
     "data": {
      "image/png": "[encoded data removed]",
      "text/plain": [
       "<Figure size 640x480 with 2 Axes>"
      ]
     },
     "metadata": {},
     "output_type": "display_data"
    },
    {
     "name": "stdout",
     "output_type": "stream",
     "text": [
      "Metrics for Non-Whites:\n",
      "Confusion Matrix:\n",
      "[[2389  409]\n",
      " [1421  541]]\n",
      "\n",
      "Classification Report:\n",
      "              precision    recall  f1-score   support\n",
      "\n",
      "           0       0.63      0.85      0.72      2798\n",
      "           1       0.57      0.28      0.37      1962\n",
      "\n",
      "    accuracy                           0.62      4760\n",
      "   macro avg       0.60      0.56      0.55      4760\n",
      "weighted avg       0.60      0.62      0.58      4760\n",
      "\n",
      "\n",
      "Ratio of False Positives to False Negatives: 0.28782547501759326\n",
      "\n"
     ]
    },
    {
     "data": {
      "image/png": "[encoded data removed]",
      "text/plain": [
       "<Figure size 640x480 with 2 Axes>"
      ]
     },
     "metadata": {},
     "output_type": "display_data"
    },
    {
     "name": "stdout",
     "output_type": "stream",
     "text": [
      "Metrics for Whites:\n",
      "Confusion Matrix:\n",
      "[[1483    2]\n",
      " [ 969    0]]\n",
      "\n",
      "Classification Report:\n",
      "              precision    recall  f1-score   support\n",
      "\n",
      "           0       0.60      1.00      0.75      1485\n",
      "           1       0.00      0.00      0.00       969\n",
      "\n",
      "    accuracy                           0.60      2454\n",
      "   macro avg       0.30      0.50      0.38      2454\n",
      "weighted avg       0.37      0.60      0.46      2454\n",
      "\n",
      "\n",
      "Ratio of False Positives to False Negatives: 0.0020639834881320948\n",
      "\n"
     ]
    },
    {
     "data": {
      "image/png": "[encoded data removed]",
      "text/plain": [
       "<Figure size 640x480 with 2 Axes>"
      ]
     },
     "metadata": {},
     "output_type": "display_data"
    },
    {
     "name": "stdout",
     "output_type": "stream",
     "text": [
      "Metrics for Non-Whites:\n",
      "Confusion Matrix:\n",
      "[[2795    3]\n",
      " [1961    1]]\n",
      "\n",
      "Classification Report:\n",
      "              precision    recall  f1-score   support\n",
      "\n",
      "           0       0.59      1.00      0.74      2798\n",
      "           1       0.25      0.00      0.00      1962\n",
      "\n",
      "    accuracy                           0.59      4760\n",
      "   macro avg       0.42      0.50      0.37      4760\n",
      "weighted avg       0.45      0.59      0.44      4760\n",
      "\n",
      "\n",
      "Ratio of False Positives to False Negatives: 0.0015298317185109638\n",
      "\n"
     ]
    },
    {
     "data": {
      "image/png": "[encoded data removed]",
      "text/plain": [
       "<Figure size 640x480 with 2 Axes>"
      ]
     },
     "metadata": {},
     "output_type": "display_data"
    }
   ],
   "source": [
    "##TODO Produce confusion matrices, classification reports, and ratio of false positives to false negatives, \n",
    "##TODO separately for whites and non-whites, and with/without including Y-hat as a predictor.\n",
    "\n",
    "\n",
    "\n",
    "from sklearn.metrics import confusion_matrix, classification_report\n",
    "import numpy as np\n",
    "\n",
    "# Function to calculate metrics\n",
    "def calculate_metrics(D_true, D_pred, race_group):\n",
    "    conf_matrix = confusion_matrix(D_true, D_pred)\n",
    "    report = classification_report(D_true, D_pred)\n",
    "    FP = conf_matrix[0][1]  # False Positives\n",
    "    FN = conf_matrix[1][0]  # False Negatives\n",
    "    ratio_fp_fn = FP / FN if FN != 0 else np.inf\n",
    "    print(f\"Metrics for {race_group}:\\nConfusion Matrix:\\n{conf_matrix}\\n\")\n",
    "    print(f\"Classification Report:\\n{report}\\n\")\n",
    "    print(f\"Ratio of False Positives to False Negatives: {ratio_fp_fn}\\n\")\n",
    "\n",
    "    ConfusionMatrixDisplay.from_predictions(D_true, D_pred)\n",
    "    plt.title(f\"Confusion Matrix for {race_group}\")\n",
    "    plt.show()\n",
    "\n",
    "# Metrics for Model without Y-hat as Predictor\n",
    "for race in [0, 1]:  # Assuming 0 represents whites and 1 represents non-whites\n",
    "    D_true = D_new[NW_New2 == race]\n",
    "    D_predicted = D_pred[NW_New2 == race]\n",
    "    race_group = 'Whites' if race == 0 else 'Non-Whites'\n",
    "    calculate_metrics(D_true, D_predicted, race_group)\n",
    "\n",
    "# Metrics for Model with Y-hat as Predictor\n",
    "for race in [0, 1]:\n",
    "    D_true = D_new3[NW_New3 == race]\n",
    "    D_predicted = D_pred3[NW_New3 == race]\n",
    "    race_group = 'Whites' if race == 0 else 'Non-Whites'\n",
    "    calculate_metrics(D_true, D_predicted, race_group)\n"
   ]
  },
  {
   "cell_type": "markdown",
   "metadata": {},
   "source": [
    "### Enforcing Statistical Parity"
   ]
  },
  {
   "cell_type": "markdown",
   "metadata": {},
   "source": [
    "In this part you will find the the group-specific thresholds for both models of judges' decision (with/without Yhat) that obtain statistical parity.\n",
    "\n",
    "You can use a custom classifier `threshold` for the decision with this type of code snippet: `decisions = (logit.predict_proba(X) >= threshold).astype(int)`."
   ]
  },
  {
   "cell_type": "markdown",
   "metadata": {},
   "source": [
    "#### Model without Yhat"
   ]
  },
  {
   "cell_type": "code",
   "execution_count": 19,
   "metadata": {
    "scrolled": true
   },
   "outputs": [
    {
     "name": "stdout",
     "output_type": "stream",
     "text": [
      "Optimal Threshold: 0.125\n"
     ]
    }
   ],
   "source": [
    "##Find the largest and lowest thresholds to enforce statistical parity\n",
    "##hint: build a recursive function to find the probability threshold that minimizes \n",
    "## the difference between the predicted outcomes for whites and non whites\n",
    "\n",
    "\n",
    "import numpy as np\n",
    "\n",
    "def calculate_disparity(threshold, X, Y, race, model):\n",
    "    predictions = (model.predict_proba(X)[:, 1] >= threshold).astype(int)\n",
    "    positive_rate_white = predictions[(race == 0)].mean()\n",
    "    positive_rate_non_white = predictions[(race == 1)].mean()\n",
    "    disparity = positive_rate_white - positive_rate_non_white\n",
    "    return abs(disparity)\n",
    "\n",
    "def find_optimal_threshold(low, high, X, Y, race, model, min_diff = 0.01, max_iter = 100):\n",
    "    if max_iter == 0:\n",
    "        return low  \n",
    "\n",
    "    mid = (low + high) / 2\n",
    "    disparity = calculate_disparity(mid, X, Y, race, model)\n",
    "\n",
    "    if disparity < min_diff:\n",
    "        return mid\n",
    "    else:\n",
    "        # adjust threshold based on which group has higher positive rate\n",
    "        if (model.predict_proba(X)[:, 1] >= mid).astype(int)[race == 0].mean() > \\\n",
    "           (model.predict_proba(X)[:, 1] >= mid).astype(int)[race == 1].mean():\n",
    "            return find_optimal_threshold(mid, high, X, Y, race, model, min_diff, max_iter-1)\n",
    "        else:\n",
    "            return find_optimal_threshold(low, mid, X, Y, race, model, min_diff, max_iter-1)\n",
    "\n",
    "# Example usage with one of your models (e.g., judge_model_a)\n",
    "optimal_threshold = find_optimal_threshold(0, 1, X, Y, NW, judge_model_a)\n",
    "print(\"Optimal Threshold:\", optimal_threshold)\n"
   ]
  },
  {
   "cell_type": "markdown",
   "metadata": {},
   "source": [
    "#### Model with Yhat"
   ]
  },
  {
   "cell_type": "code",
   "execution_count": 21,
   "metadata": {
    "scrolled": true
   },
   "outputs": [
    {
     "name": "stdout",
     "output_type": "stream",
     "text": [
      "Optimal Threshold: 0.5\n"
     ]
    }
   ],
   "source": [
    "##Find the largest and lowest thresholds to enforce statistical parity\n",
    "##hint: build a recursive function to find the probability threshold that minimizes \n",
    "## the difference between the predicted outcomes for whites and non whites\n",
    "\n",
    "\n",
    "\n",
    "optimal_threshold2 = find_optimal_threshold(0, 1, X_enhanced, Y, NW, judge_model_a3)\n",
    "print(\"Optimal Threshold:\", optimal_threshold2)"
   ]
  },
  {
   "cell_type": "markdown",
   "metadata": {},
   "source": [
    "# Bonus 1: More Fairness Constraints"
   ]
  },
  {
   "cell_type": "markdown",
   "metadata": {},
   "source": [
    "Find the threshold for both models (with/without Yhat) that obtains error rate balance (equality of recalls for each class."
   ]
  },
  {
   "cell_type": "code",
   "execution_count": null,
   "metadata": {},
   "outputs": [],
   "source": [
    "##TODO"
   ]
  },
  {
   "cell_type": "markdown",
   "metadata": {},
   "source": [
    "Find the threshold for both models (with/without Yhat) that obtains predictive parity (equality of precisions for each class)."
   ]
  },
  {
   "cell_type": "code",
   "execution_count": null,
   "metadata": {},
   "outputs": [],
   "source": [
    "##TODO"
   ]
  },
  {
   "cell_type": "markdown",
   "metadata": {},
   "source": [
    "Find the threshold for both models (with/without Yhat) that obtains treatment equality (ratio of false positives to false negatives)."
   ]
  },
  {
   "cell_type": "code",
   "execution_count": null,
   "metadata": {
    "scrolled": true
   },
   "outputs": [],
   "source": [
    "##TODO"
   ]
  },
  {
   "cell_type": "markdown",
   "metadata": {},
   "source": [
    "# Bonus 2: Pre-Processing for Fairness"
   ]
  },
  {
   "cell_type": "markdown",
   "metadata": {},
   "source": [
    "Regress all predictors in `X` on the protected attribute `A` and produce residuals `Xtilde`. Re-do the prediction task above (predicting judges' decision) and discuss how it changes the fairness metrics."
   ]
  },
  {
   "cell_type": "code",
   "execution_count": null,
   "metadata": {},
   "outputs": [],
   "source": [
    "##TODO"
   ]
  }
 ],
 "metadata": {
  "kernelspec": {
   "display_name": "Python 3",
   "language": "python",
   "name": "python3"
  },
  "language_info": {
   "codemirror_mode": {
    "name": "ipython",
    "version": 3
   },
   "file_extension": ".py",
   "mimetype": "text/x-python",
   "name": "python",
   "nbconvert_exporter": "python",
   "pygments_lexer": "ipython3",
   "version": "3.11.7"
  }
 },
 "nbformat": 4,
 "nbformat_minor": 4
}
